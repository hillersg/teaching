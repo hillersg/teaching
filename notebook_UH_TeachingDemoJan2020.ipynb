{
 "cells": [
  {
   "cell_type": "markdown",
   "metadata": {},
   "source": [
    "#                    Spectral components in (seismic) time series"
   ]
  },
  {
   "cell_type": "markdown",
   "metadata": {},
   "source": [
    "## Learning outcomes\n",
    "\n",
    "The target learning outcomes of this lecture are\n",
    "\n",
    "* Don't be afraid of the (Discrete) Fourier Transform!\n",
    "* Understand how a time domain signal is transformed into the spectral domain based on decomposition using cosine and sine basis functions.\n",
    "\n",
    "## 0 Preliminaries\n",
    "\n",
    "**TINKER:** To fire up the Python environment used below, click (somewhere) in the next cell and\n",
    "* _hold `shift` when pressing `enter`_\n",
    "* _or click on the `>| Run` button in the menu on the top of the page._\n",
    "\n",
    "Then the value of $\\pi$ should be displayed below the cell, `pi = 3.14159`, as well as other content needed below."
   ]
  },
  {
   "cell_type": "code",
   "execution_count": null,
   "metadata": {},
   "outputs": [],
   "source": [
    "import numpy as np\n",
    "import matplotlib.pyplot as plt\n",
    "import auxiliary_functions as auxf\n",
    "%matplotlib inline\n",
    "# work with N samples; build n-vector; # make target time series\n",
    "pi = np.pi; N = 100; n = np.arange(0,N)\n",
    "dataargument = 3*2*pi*n/N; data = np.cos(dataargument) # this is the x_n, the time series data used below\n",
    "print('pi is pi: pi = %g'%(pi));          print('data length: N = %i'%N)\n",
    "print('n is a N-long vector: n = ',n);    print('data is a N-long vector, too!')"
   ]
  },
  {
   "cell_type": "markdown",
   "metadata": {},
   "source": [
    "## 1 Introduction\n",
    "\n",
    "Time series galore!\n",
    "\n",
    "**FIGURE 1**\n",
    "\n",
    "<img src=\"./figure_timeseries.png\" alt=\"Drawing\" style=\"width: 950px;\"/>\n",
    "\n",
    "\n",
    "\n",
    "Using the _Fourier Transform_ (FT) the information contained in a time series is often better studied in the _frequency domain_ or _spectral domain_. More generally, the manipulation of time series in the broad context of signal processing is often easier in the spectral domain. Figure 2 shows an example DFT pair, a seismogram and the P-wave spectra to which a model is fit to estimate released energy (related to $\\Omega_0$) and size (related to $f_c$).\n",
    "\n",
    "**FIGURE 2**\n",
    "\n",
    "<img src=\"./figure_seismogram_spectrum.png\" alt=\"Drawing\" style=\"width: 550px;\"/>\n"
   ]
  },
  {
   "cell_type": "markdown",
   "metadata": {},
   "source": [
    "## 2 The Discrete Fourier Transform DFT\n",
    "\n",
    "The key objective of the DFT decomposition is to measure how much of the time domain signal can be explained by the cosine and sine **basis functions** of different frequencies (= how often/fast the cosine/sine functions 'wiggle' over the signal length).\n",
    "\n",
    "This figure sketches the DFT pair of a $N=16$ point long time series and the corresponding suite of nine cosine and sine amplitude (or weights):\n",
    "\n",
    "**FIGURE 3**\n",
    "\n",
    "<img src=\"./figure_DFTterminology_timefrequencydomain.png\" alt=\"Drawing\" style=\"width: 500px;\"/>\n",
    "\n",
    "### 2.1 The forward DFT or analysis equations\n",
    "\n",
    "Linear combinations of **weighted** sine and cosine functions can be used to represent the time domain signal. The weights can be found by regression or correlation; the DFT / FFT works by **correlation**.\n",
    "\n",
    "The principle of correlation: **To detect a known waveform contained in another signal, multiply the two and add the points in the resulting product, and this single number is a measure of how similar the two signals are**. Here, that number is the cosine/sine amplitude or weight. The DFT analysis equations are\n",
    "\n",
    "\\begin{eqnarray}\n",
    "\\mathrm{Re}(X_\\color{red}{k}) & = &\\quad\\sum_{\\color{blue}{n}=0}^{N-1}x_\\color{blue}{n}\\cos(\\color{red}{k}\\,2\\pi\\,\\color{blue}{n}/N)\\\\\n",
    "\\mathrm{Im}(X_\\color{red}{k}) & = &\\,-\\sum_{\\color{blue}{n}=0}^{N-1}x_\\color{blue}{n}\\sin(\\color{red}{k}\\,2\\pi\\,\\color{blue}{n}/N)\n",
    "\\end{eqnarray}\n",
    "\n",
    "Let's understand the ingredients:\n",
    "* $\\mathrm{Re}$ and $\\mathrm{Im}$ stands for Real and Imaginary part of the complex $X$ (synonymous to cosine and sine weigths)\n",
    "* (The minus sign in the $\\mathrm{Im}(X_k)$ expression makes the real DFT consistent with the complex DFT; can be neglected)\n",
    "* $X_\\color{red}{k}$ is the FT of the $N$-long time domain signal $x_\\color{blue}{n}$  ($\\color{blue}{n}$ running from $0$ to $N-1$)\n",
    "* $\\color{red}{k}$ is the frequency (integer) $\\rightarrow$ $X_\\color{red}{k}$ is _one_ FT value at $\\color{red}{k}$\n",
    "* $2\\pi$: full cycle of cosine and sine function\n",
    "* $\\color{blue}{n}/N$ is the fraction of the full cycle $2\\pi$ \\$\\rightarrow$ $\\cos(k2\\pi n/N)$ has the same length as $x_n$\n",
    "\n",
    "Using Euler's relation \n",
    "\\begin{equation}\n",
    "e^{\\pm i \\varphi} = \\cos \\varphi\\pm i \\sin \\varphi\n",
    "\\end{equation}\n",
    "\n",
    "the analysis equation is expressed in terms of complex exponentials (as said, $X_k$ is complex (anyway...))\n",
    "\n",
    "\\begin{equation}\n",
    "X_k = \\sum_{n=0}^{N-1}x_n e^{-2\\pi ik n /N}\n",
    "\\end{equation}\n",
    "\n",
    "### 2.2 The amplitude (and phase) spectrum\n",
    "\n",
    "\n",
    "The $\\mathrm{Re}(X_k)$ and $\\mathrm{Im}(X_k)$ values obtained with the analysis equation have to be converted to the amplitude (or magnitude) $A$ and phase $\\phi$ spectrum:\n",
    "\n",
    "\\begin{eqnarray}\n",
    "A_k    & = & \\sqrt{\\mathrm{Re}(X_k)^2 + \\mathrm{Im}(X_k)^2}\\\\\n",
    "\\phi_k & = & \\mathrm{arctan} \\left(\\frac{\\mathrm{Im}(X_k)}{\\mathrm{Re}(X_k)}\\right)\n",
    "\\end{eqnarray}\n",
    "\n",
    "The spectral amplitudes in the Introduction are the amplitude spectrum."
   ]
  },
  {
   "cell_type": "markdown",
   "metadata": {},
   "source": [
    "## 3 Hands on!\n",
    "\n",
    "### Task 1: Frequency\n",
    "\n",
    "We explore the effect of the frequency-value $k$ on the similarity of the cosine and sine basis or test functions to a sinusoidal (=cosine/sine function of arbitrary phase) data time series (the $x_n$ from above; plotted in gray).\n",
    "\n",
    "**TINKER:** _Choose different $k$ values (integers! start with 0, `k = 0`) to explore the effect on the cosine and sine test functions._\n",
    "* _Note the values for Re(X_k) and Im(X_k) printed below the figures._\n",
    "* _What do they tell you about the similarity between data and basis/test functions?_"
   ]
  },
  {
   "cell_type": "code",
   "execution_count": null,
   "metadata": {},
   "outputs": [],
   "source": [
    "# TINKER LINE ... TINKER LINE ... TINKER LINE ... TINKER LINE ... TINKER LINE ... \n",
    "k = 1         # choose your k! \n",
    "\n",
    "# the analysis equation: correlation\n",
    "ReXk =  np.sum( data * np.cos(k*2*np.pi*n/N) )\n",
    "ImXk = -np.sum( data * np.sin(k*2*np.pi*n/N) )\n",
    "# plotting\n",
    "auxf.aux_plot_kcosinesine(k,n,data,np.cos(k*2*np.pi*n/N),np.sin(k*2*np.pi*n/N))\n",
    "print('\\tCosine weight Re(X_k) = %2.4f\\t\\t\\t\\tSine weight Im(X_k) = %2.4f'%(ReXk/(N/2),ImXk/(N/2)))"
   ]
  },
  {
   "cell_type": "markdown",
   "metadata": {},
   "source": [
    "### Task 2: Decomposition of arbitrarily phased sinusoid\n",
    "\n",
    "The gray sinusoidal data time series in Task 1 was a 'pure' cosine function. However, a (seismic) signal can have any phase. Here we see that any sinusoid can be decomposed into a linear combination of properly weighted cosine and sine functions.\n",
    "\n",
    "**TINKER:**\n",
    "1. _Apply different phase shifts, e.g., `phaseshift = -np.pi/2`, to the orginal data cosine function in gray. The resulting new time series is plotted in red._\n",
    "2. _Change the `decompose` statement from False to True (have `decompose = True`). When you run the cell now, a model function is plotted in black. The right panel shows how that black model function is decomposed into a cosine and sine function, i.e., the sum of the cyan and magenta curves yields the black curve._\n",
    "   * _Apply again different phase shifts; can you find a `phaseshift` value for which no fitting model can be found?_\n",
    "   * _The cosine and sine weights are printed below the figures. **Let's talk about how that relates to the amplitude (and phase) spectrum!**_"
   ]
  },
  {
   "cell_type": "code",
   "execution_count": null,
   "metadata": {},
   "outputs": [],
   "source": [
    "# TINKER LINE ... TINKER LINE ... TINKER LINE ... TINKER LINE ... TINKER LINE ... \n",
    "phaseshift = -np.pi/2  # choose phase shift between [-np.pi/1 0], e.g. [-pi/8, -pi/4, -pi/3, -pi/2, ...]\n",
    "\n",
    "newargument = dataargument + phaseshift;    newdata = np.cos(newargument) # this is the new phase-shifted data\n",
    "\n",
    "decompose = False\n",
    "a, b = auxf.aux_plot_modeldecomposition(n,data,newdata,dataargument,decompose) # decomposition and plotting \n",
    "if decompose:\n",
    "    print(\"The sine- and cosine-weights are %5.3f, %5.3f\"%(a, b));"
   ]
  },
  {
   "cell_type": "markdown",
   "metadata": {},
   "source": [
    "## 4 Decomposition understood!\n",
    "\n",
    "(Learning outcome revisited) **You now understand** the ingredients of the decomposition of a 16-point example time series into corresponding nine 16 samples long **properly weighted** (amplitude values!) cosine and sine functions of discrete frequencies:\n",
    "\n",
    "**FIGURE 4**\n",
    "<img src=\"./figure_decompositionsynthesis_cosinesinewaves.png\" alt=\"Drawing\" style=\"width: 900px;\"/>"
   ]
  },
  {
   "cell_type": "code",
   "execution_count": null,
   "metadata": {},
   "outputs": [],
   "source": []
  }
 ],
 "metadata": {
  "kernelspec": {
   "display_name": "Python 3",
   "language": "python",
   "name": "python3"
  },
  "language_info": {
   "codemirror_mode": {
    "name": "ipython",
    "version": 3
   },
   "file_extension": ".py",
   "mimetype": "text/x-python",
   "name": "python",
   "nbconvert_exporter": "python",
   "pygments_lexer": "ipython3",
   "version": "3.7.6"
  }
 },
 "nbformat": 4,
 "nbformat_minor": 4
}
